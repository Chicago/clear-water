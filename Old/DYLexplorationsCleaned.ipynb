{
 "cells": [
  {
   "cell_type": "code",
   "execution_count": 1,
   "metadata": {
    "collapsed": false
   },
   "outputs": [
    {
     "name": "stderr",
     "output_type": "stream",
     "text": [
      "/Library/Frameworks/Python.framework/Versions/3.5/lib/python3.5/site-packages/IPython/html.py:14: ShimWarning: The `IPython.html` package has been deprecated. You should import from `notebook` instead. `IPython.html.widgets` has moved to `ipywidgets`.\n",
      "  \"`IPython.html.widgets` has moved to `ipywidgets`.\", ShimWarning)\n"
     ]
    }
   ],
   "source": [
    "import read_data\n",
    "import pandas as pd\n",
    "import numpy as np\n",
    "from IPython import embed\n",
    "from sklearn.decomposition import PCA\n",
    "import matplotlib.pyplot as plt\n",
    "import seaborn\n",
    "import logging\n",
    "import six\n",
    "import scipy.stats\n",
    "from sklearn.preprocessing import Imputer\n"
   ]
  },
  {
   "cell_type": "code",
   "execution_count": 2,
   "metadata": {
    "collapsed": false
   },
   "outputs": [],
   "source": [
    "df=pd.read_csv('dyl_ecoli_df.csv',usecols=['index', 'Week', 'Yearday', 'Monthday', 'Weekday',\n",
    "       'Month', 'Timestamp', 'Beach', 'Ecoli', 'Year'],index_col=[0],parse_dates=[6])\n",
    "forecast_df=pd.read_csv('dyl_forecast_df.csv',usecols=['beach', 'time', 'precipIntensity', 'precipProbability',\n",
    "       'temperature', 'apparentTemperature', 'dewPoint', 'humidity',\n",
    "       'windSpeed', 'visibility', 'cloudCover', 'pressure', 'Breezy', 'Dry',\n",
    "       'Foggy', 'Humid', 'MostlyCloudy', 'PartlyCloudy', 'Overcast', 'Clear',\n",
    "       'Drizzle', 'DangerouslyWindy', 'Windy', 'HeavyRain', 'LightRain',\n",
    "       'Rain', 'windSin', 'windCos'],parse_dates=[1])\n",
    "forecast_df['windCos']=forecast_df['windCos']*forecast_df['windSpeed']\n",
    "forecast_df['windSin']=forecast_df['windSin']*forecast_df['windSpeed']\n",
    "forecast_df=forecast_df.drop(['windSpeed'],axis=1)\n",
    "df=df[df.Timestamp.dt.hour==0]"
   ]
  },
  {
   "cell_type": "code",
   "execution_count": 3,
   "metadata": {
    "collapsed": true
   },
   "outputs": [],
   "source": [
    "dfs=[]\n",
    "for y in range(2006,2015):\n",
    "    dfs.append(pd.DataFrame(index=pd.DatetimeIndex(start=df.Timestamp[df.Year==y].min()-pd.Timedelta(days=10),freq='H',end=df.Timestamp[df.Year==y].max())));\n",
    "timeindexed_df=pd.concat(dfs)\n",
    "\n",
    "for beach in df.Beach.unique():\n",
    "    b=beach.replace(' ','').strip()\n",
    "    timeindexed_df['ecoli_'+b]=np.nan\n",
    "    timeindexed_df.loc[df.Timestamp[df.Beach==beach],'ecoli_'+b]=df.Ecoli[df.Beach==beach].values\n",
    "\n",
    "for beach in df.Beach.unique():\n",
    "    b=beach.replace(' ','').strip()\n",
    "    sub_df=forecast_df[forecast_df.beach==beach]\n",
    "    for c in (set(forecast_df.columns)-set(['time','beach'])):\n",
    "        timeindexed_df[c+'_'+b]=np.nan\n",
    "        timeindexed_df.loc[sub_df.time,c+'_'+b]=sub_df[c].values\n"
   ]
  },
  {
   "cell_type": "code",
   "execution_count": 4,
   "metadata": {
    "collapsed": false
   },
   "outputs": [],
   "source": [
    "predictor_pcas=pd.DataFrame(index=timeindexed_df.index)\n",
    "for c in (set(forecast_df.columns)-set(['time','beach'])):\n",
    "    forecast_pivot=forecast_df.pivot(index='time',columns='beach',values=c)\n",
    "    forecast_pivot.drop('39th',axis=1,inplace=True)\n",
    "    forecast_pivot=forecast_pivot[forecast_pivot.notnull().all(axis=1)]\n",
    "    forecast_pivot=forecast_pivot.loc[forecast_pivot.notnull().all(axis=1),:]\n",
    "    pca=PCA(n_components=6)\n",
    "    predictor_pcas=predictor_pcas.merge(pd.DataFrame(pca.fit_transform(forecast_pivot),index=forecast_pivot.index,columns=[c+'0',c+'1',c+'2',c+'3',c+'4',c+'5']),left_index=True,right_index=True,how='outer')\n",
    "\n",
    "c='Ecoli'\n",
    "ecoli_pivot=df.pivot(index='Timestamp',columns='Beach',values=c)\n",
    "ecoli_pivot.drop('39th',axis=1,inplace=True)\n",
    "ecoli_pivot=ecoli_pivot[ecoli_pivot.notnull().all(axis=1)]\n",
    "ecoli_pivot=ecoli_pivot.loc[ecoli_pivot.notnull().all(axis=1),:]\n",
    "pca=PCA(n_components=6)\n",
    "predictor_pcas=predictor_pcas.merge(pd.DataFrame(pca.fit_transform(ecoli_pivot),index=ecoli_pivot.index,columns=[c+'0',c+'1',c+'2',c+'3',c+'4',c+'5']),left_index=True,right_index=True,how='outer')\n"
   ]
  },
  {
   "cell_type": "code",
   "execution_count": 5,
   "metadata": {
    "collapsed": false
   },
   "outputs": [
    {
     "name": "stdout",
     "output_type": "stream",
     "text": [
      "Calumet\n",
      "Rainbow\n",
      "SouthShore\n",
      "63rd\n",
      "57th\n",
      "31st\n",
      "12th\n",
      "Ohio\n",
      "OakStreet\n",
      "NorthAvenue\n",
      "Montrose\n",
      "Foster\n",
      "Osterman\n",
      "Albion\n",
      "Leone\n",
      "Jarvis\n",
      "Howard\n",
      "Rogers\n",
      "Juneway\n",
      "39th\n"
     ]
    }
   ],
   "source": [
    "pca_hit_means={}\n",
    "pca_miss_means={}\n",
    "pca_hit_stds={}\n",
    "pca_miss_stds={}\n",
    "pca_hit_counts={}\n",
    "pca_miss_counts={}\n",
    "# pca_hitmiss_kw={}\n",
    "pca_hitmiss_mwu={}\n",
    "pca_hitmiss_ranksum={}\n",
    "all_columns=predictor_pcas.columns\n",
    "empty_dt_df=pd.DataFrame(columns=all_columns,\n",
    "                         index=pd.timedelta_range(start='8H', end='-24H',freq='-1H').append(pd.timedelta_range(start='-2 days', end='-10 days',freq='-1D')))\n",
    "for beach in df.Beach.unique():\n",
    "    b=beach.replace(' ','').strip()\n",
    "    print(b)\n",
    "    sub_df=df[df.Beach==beach]\n",
    "    pca_hit_means[b]=empty_dt_df.copy()\n",
    "    pca_miss_means[b]=empty_dt_df.copy()\n",
    "    pca_hit_stds[b]=empty_dt_df.copy()\n",
    "    pca_miss_stds[b]=empty_dt_df.copy()\n",
    "    pca_hit_counts[b]=empty_dt_df.copy()\n",
    "    pca_miss_counts[b]=empty_dt_df.copy()\n",
    "#     pca_hitmiss_kw[b]=empty_dt_df.copy()\n",
    "    pca_hitmiss_mwu[b]=empty_dt_df.copy()\n",
    "    pca_hitmiss_ranksum[b]=empty_dt_df.copy()\n",
    "\n",
    "    hit_times=sub_df.Timestamp[sub_df.Ecoli>=235]\n",
    "    miss_times=sub_df.Timestamp[sub_df.Ecoli<235]\n",
    "    for dt in pd.timedelta_range(start='8H', end='-24H',freq='-1H').append(pd.timedelta_range(start='-2 days', end='-10 days',freq='-1D')):\n",
    "        shift_hit=hit_times+dt\n",
    "        shift_miss=miss_times+dt\n",
    "        pca_hit_means[b].loc[dt,:]=predictor_pcas.loc[shift_hit].mean();\n",
    "        pca_miss_means[b].loc[dt,:]=predictor_pcas.loc[shift_miss].mean();\n",
    "        pca_hit_stds[b].loc[dt,:]=predictor_pcas.loc[shift_hit].std();\n",
    "        pca_miss_stds[b].loc[dt,:]=predictor_pcas.loc[shift_miss].std();\n",
    "        pca_hit_counts[b].loc[dt,:]=predictor_pcas.loc[shift_hit].notnull().sum();\n",
    "        pca_miss_counts[b].loc[dt,:]=predictor_pcas.loc[shift_miss].notnull().sum();\n",
    "\n",
    "        for f in all_columns:\n",
    "            if ~np.isnan(predictor_pcas.loc[shift_hit,f].sum()):\n",
    "                try:\n",
    "                    pca_hitmiss_mwu[b].loc[dt,f]=scipy.stats.mstats.mannwhitneyu(predictor_pcas.loc[shift_hit,f],predictor_pcas.loc[shift_miss,f]).pvalue+scipy.stats.mstats.mannwhitneyu(predictor_pcas.loc[shift_miss,f],predictor_pcas.loc[shift_hit,f]).pvalue;\n",
    "                    pca_hitmiss_ranksum[b].loc[dt,f]=scipy.stats.ranksums(predictor_pcas.loc[shift_miss,f],predictor_pcas.loc[shift_hit,f]).pvalue;\n",
    "#                     pca_hitmiss_kw[b].loc[dt,f]=scipy.stats.mstats.kruskalwallis(predictor_pcas.loc[shift_hit,f],predictor_pcas.loc[shift_miss,f]).pvalue;\n",
    "                except:\n",
    "                    continue"
   ]
  },
  {
   "cell_type": "code",
   "execution_count": 6,
   "metadata": {
    "collapsed": false
   },
   "outputs": [],
   "source": [
    "predictors_df=df.copy();\n",
    "for c in (set(forecast_df.columns)-set(['time','beach'])):\n",
    "    predictors_df[c+'0']=0\n",
    "    predictors_df[c+'1']=0\n",
    "    predictors_df[c+'A']=0\n",
    "predictors_df['Ecoli0']=0\n",
    "predictors_df['Ecoli1']=0\n",
    "predictors_df['EcoliA']=0\n",
    "predictors_df.reset_index(inplace=True)"
   ]
  },
  {
   "cell_type": "code",
   "execution_count": 7,
   "metadata": {
    "collapsed": false
   },
   "outputs": [
    {
     "name": "stdout",
     "output_type": "stream",
     "text": [
      "Calumet\n",
      "Rainbow\n",
      "SouthShore\n",
      "63rd\n",
      "57th\n",
      "31st\n",
      "12th\n",
      "Ohio\n",
      "OakStreet\n",
      "NorthAvenue\n",
      "Montrose\n",
      "Foster\n",
      "Osterman\n",
      "Albion\n",
      "Leone\n",
      "Jarvis\n",
      "Howard\n",
      "Rogers\n",
      "Juneway\n",
      "39th\n"
     ]
    }
   ],
   "source": [
    "for beach in predictors_df.Beach.unique():\n",
    "    beach_hits=predictors_df.Beach==beach\n",
    "    beach_index=predictors_df.index[beach_hits]\n",
    "    beach_times=predictors_df.loc[beach_hits,'Timestamp']\n",
    "    b=beach.replace(' ','').strip()\n",
    "    print(b)\n",
    "    for dt in pd.timedelta_range(start='8H', end='-24H',freq='-1H').append(pd.timedelta_range(start='-2 days', end='-10 days',freq='-1D')):\n",
    "        shift_times=beach_times+dt\n",
    "        for c in (set(forecast_df.columns)-set(['time','beach'])):\n",
    "            score=(predictor_pcas.loc[beach_times+dt,c+'0']-pca_miss_means[b].loc[dt,c+'0'])*(pca_hit_means[b].loc[dt,c+'0']-pca_miss_means[b].loc[dt,c+'0'])*(1-pca_hitmiss_ranksum[b].loc[dt,c+'0'])**100;\n",
    "            predictors_df.loc[beach_index[score.notnull()],c+'0']+=score[score.notnull()].values;\n",
    "            \n",
    "            score=(predictor_pcas.loc[beach_times+dt,c+'1']-pca_miss_means[b].loc[dt,c+'1'])*(pca_hit_means[b].loc[dt,c+'1']-pca_miss_means[b].loc[dt,c+'1'])*(1-pca_hitmiss_ranksum[b].loc[dt,c+'1'])**100;\n",
    "            predictors_df.loc[beach_index[score.notnull()],c+'1']+=score[score.notnull()].values;\n",
    "            \n",
    "            score=((predictor_pcas.loc[beach_times+dt,[c+'2',c+'3',c+'4',c+'5']]-pca_miss_means[b].loc[dt,[c+'2',c+'3',c+'4',c+'5']])*(pca_hit_means[b].loc[dt,[c+'2',c+'3',c+'4',c+'5']]-pca_miss_means[b].loc[dt,[c+'2',c+'3',c+'4',c+'5']])*(1-pca_hitmiss_ranksum[b].loc[dt,[c+'2',c+'3',c+'4',c+'5']])**100).sum(axis=1);\n",
    "            predictors_df.loc[beach_index[score.notnull()],c+'A']+=score[score.notnull()].values;\n",
    "        c='Ecoli'\n",
    "        if dt.days<0:\n",
    "            score=(predictor_pcas.loc[beach_times+dt,c+'0']-pca_miss_means[b].loc[dt,c+'0'])*(pca_hit_means[b].loc[dt,c+'0']-pca_miss_means[b].loc[dt,c+'0'])*(1-pca_hitmiss_ranksum[b].loc[dt,c+'0'])**100;\n",
    "            predictors_df.loc[beach_index[score.notnull()],c+'0']+=score[score.notnull()].values;\n",
    "            \n",
    "            score=(predictor_pcas.loc[beach_times+dt,c+'1']-pca_miss_means[b].loc[dt,c+'1'])*(pca_hit_means[b].loc[dt,c+'1']-pca_miss_means[b].loc[dt,c+'1'])*(1-pca_hitmiss_ranksum[b].loc[dt,c+'1'])**100;\n",
    "            predictors_df.loc[beach_index[score.notnull()],c+'1']+=score[score.notnull()].values;\n",
    "            \n",
    "            score=((predictor_pcas.loc[beach_times+dt,[c+'2',c+'3',c+'4',c+'5']]-pca_miss_means[b].loc[dt,[c+'2',c+'3',c+'4',c+'5']])*(pca_hit_means[b].loc[dt,[c+'2',c+'3',c+'4',c+'5']]-pca_miss_means[b].loc[dt,[c+'2',c+'3',c+'4',c+'5']])*(1-pca_hitmiss_ranksum[b].loc[dt,[c+'2',c+'3',c+'4',c+'5']])**100).sum(axis=1);\n",
    "            predictors_df.loc[beach_index[score.notnull()],c+'A']+=score[score.notnull()].values;\n",
    "\n",
    "        \n",
    "\n"
   ]
  },
  {
   "cell_type": "code",
   "execution_count": 8,
   "metadata": {
    "collapsed": false
   },
   "outputs": [
    {
     "name": "stdout",
     "output_type": "stream",
     "text": [
      "2006\n",
      "2007\n",
      "2008\n",
      "2009\n",
      "2010\n",
      "2011\n",
      "2012\n",
      "2013\n",
      "2014\n"
     ]
    },
    {
     "data": {
      "text/plain": [
       "(0.0, 1.0, 0.0, 1.0)"
      ]
     },
     "execution_count": 8,
     "metadata": {},
     "output_type": "execute_result"
    },
    {
     "data": {
      "image/png": "[encoded data removed]",
      "text/plain": [
       "<matplotlib.figure.Figure at 0x10fcb9c50>"
      ]
     },
     "metadata": {},
     "output_type": "display_data"
    }
   ],
   "source": [
    "from sklearn.preprocessing import Imputer\n",
    "import sklearn.ensemble as ens\n",
    "import sklearn.metrics\n",
    "%matplotlib inline\n",
    "\n",
    "Fresh_run=predictors_df.copy()\n",
    "# usingParams=['Year','Ecoli_geomean','precipIntensity','precipProbability','temperature','apparentTemperature','dewPoint','cloudCover','pressure','windSin','windCos','precipIntensity_pca','precipProbability_pca','temperature_pca','apparentTemperature_pca','dewPoint_pca','cloudCover_pca','pressure_pca','windCos_pca','dtemperature_pca','dapparentTemperature_pca','dvisibility_pca','dwindCos_pca']\n",
    "# Fresh_run=ecoli_df.loc[:,usingParams].copy()\n",
    "Fresh_run=Fresh_run.drop(['index','Timestamp','Beach'],1)\n",
    "\n",
    "years=Fresh_run.Year.unique()\n",
    "columns=Fresh_run.columns.drop(['Ecoli'])\n",
    "\n",
    "speration=(predictors_df[predictors_df.Ecoli>=235].mean()-predictors_df[predictors_df.Ecoli<235].mean())/predictors_df[predictors_df.Ecoli<235].std()\n",
    "predictor_columns=speration[speration>0.15].index\n",
    "predictor_columns=predictor_columns.drop('Ecoli')\n",
    "# Fresh_run.loc[Fresh_run[np.isinf(Fresh_run.precipIntensity)].index,'precipIntensity']=100;\n",
    "# Fresh_run.loc[Fresh_run[np.isinf(Fresh_run.precipProbability)].index,'precipProbability']=100;\n",
    "\n",
    "#  imp = Imputer(missing_values='NaN', strategy='mean', axis=1)\n",
    "cleaned_data = Fresh_run[columns]\n",
    "\n",
    "E_levels=Fresh_run.Ecoli.as_matrix()\n",
    "\n",
    "plt.figure(figsize=[12,12])\n",
    "RF=list()\n",
    "count=0;\n",
    "predictions=list()\n",
    "E_test=list()\n",
    "legend=list()\n",
    "for y in years:\n",
    "    print(y)\n",
    "    train_ind=(cleaned_data.Year != y).as_matrix()\n",
    "    test_ind=(cleaned_data.Year == y).as_matrix()\n",
    "\n",
    "    RF.append(ens.RandomForestClassifier(n_estimators=500,criterion='entropy',class_weight={True:.8,False:.2}))\n",
    "    RF[count]=RF[count].fit(cleaned_data.loc[train_ind,predictor_columns],E_levels[train_ind]>=235)\n",
    "    predictions.append(RF[count].predict_proba(cleaned_data.loc[test_ind,predictor_columns]))\n",
    "    E_test.append(E_levels[test_ind])\n",
    "    fpr, tpr, _ =sklearn.metrics.roc_curve(E_test[count]>=235,predictions[count][:,1])\n",
    "    plt.plot(fpr,tpr)\n",
    "    plt.hold(True)\n",
    "    count+=1\n",
    "    legend.append(y)\n",
    "plt.xlabel('False Positive Rate')\n",
    "plt.ylabel('True Positive Rate')\n",
    "plt.legend(legend,loc=0)\n",
    "plt.axis('equal')\n"
   ]
  },
  {
   "cell_type": "code",
   "execution_count": 9,
   "metadata": {
    "collapsed": false
   },
   "outputs": [],
   "source": [
    "coverage=list()\n",
    "for count in range(0,9):\n",
    "    temp=predictions[count][:,1].copy()\n",
    "    temp=E_test[count][temp.argsort()]>235\n",
    "    temp=temp[::-1]\n",
    "    temp2=np.cumsum(temp)/np.arange(1,temp.size+1)\n",
    "    temp3=np.argwhere(temp2>0.45).max()\n",
    "    coverage.append(temp2[temp3]*(temp3+1)/temp.sum())\n"
   ]
  },
  {
   "cell_type": "code",
   "execution_count": 10,
   "metadata": {
    "collapsed": false
   },
   "outputs": [
    {
     "data": {
      "text/plain": [
       "[0.55303030303030298,\n",
       " 0.81469648562300323,\n",
       " 0.43790849673202614,\n",
       " 0.59905660377358494,\n",
       " 0.59677419354838712,\n",
       " 0.66265060240963858,\n",
       " 0.67015706806282727,\n",
       " 0.65263157894736845,\n",
       " 0.38308457711442784]"
      ]
     },
     "execution_count": 10,
     "metadata": {},
     "output_type": "execute_result"
    }
   ],
   "source": [
    "coverage"
   ]
  },
  {
   "cell_type": "code",
   "execution_count": 11,
   "metadata": {
    "collapsed": false
   },
   "outputs": [
    {
     "data": {
      "text/plain": [
       "Index(['dewPoint0', 'dewPoint1', 'dewPointA', 'temperature0', 'temperature1',\n",
       "       'temperatureA', 'windCos0', 'windCos1', 'windCosA',\n",
       "       'apparentTemperature0', 'apparentTemperature1', 'apparentTemperatureA',\n",
       "       'humidity0', 'humidity1', 'humidityA', 'precipProbability0',\n",
       "       'PartlyCloudy1', 'PartlyCloudyA', 'pressure0', 'pressure1', 'pressureA',\n",
       "       'visibility0', 'visibilityA', 'cloudCover0', 'cloudCover1',\n",
       "       'cloudCoverA', 'Overcast0', 'MostlyCloudy0', 'MostlyCloudy1',\n",
       "       'MostlyCloudyA', 'Clear0', 'Clear1', 'ClearA', 'precipIntensity0',\n",
       "       'precipIntensity1', 'windSin0', 'windSin1', 'windSinA', 'LightRain0',\n",
       "       'Ecoli0', 'Ecoli1', 'EcoliA'],\n",
       "      dtype='object')"
      ]
     },
     "execution_count": 11,
     "metadata": {},
     "output_type": "execute_result"
    }
   ],
   "source": [
    "predictor_columns"
   ]
  },
  {
   "cell_type": "code",
   "execution_count": 12,
   "metadata": {
    "collapsed": false
   },
   "outputs": [
    {
     "data": {
      "text/plain": [
       "dewPoint0               0.432509\n",
       "dewPoint1               0.196493\n",
       "dewPointA               0.365651\n",
       "temperature0            0.460610\n",
       "temperature1            0.295226\n",
       "temperatureA            0.387348\n",
       "windCos0                0.478939\n",
       "windCos1                0.365710\n",
       "windCosA                0.276316\n",
       "apparentTemperature0    0.461065\n",
       "apparentTemperature1    0.305451\n",
       "apparentTemperatureA    0.418885\n",
       "humidity0               0.177727\n",
       "humidity1               0.261674\n",
       "humidityA               0.295696\n",
       "precipProbability0      0.378427\n",
       "PartlyCloudy1           0.177688\n",
       "PartlyCloudyA           0.250869\n",
       "pressure0               0.278737\n",
       "pressure1               0.383354\n",
       "pressureA               0.435342\n",
       "visibility0             0.199315\n",
       "visibilityA             0.165053\n",
       "cloudCover0             0.428273\n",
       "cloudCover1             0.172978\n",
       "cloudCoverA             0.299041\n",
       "Overcast0               0.171922\n",
       "MostlyCloudy0           0.437120\n",
       "MostlyCloudy1           0.170123\n",
       "MostlyCloudyA           0.193093\n",
       "Clear0                  0.449519\n",
       "Clear1                  0.208317\n",
       "ClearA                  0.212109\n",
       "precipIntensity0        0.312502\n",
       "precipIntensity1        0.154791\n",
       "windSin0                0.228944\n",
       "windSin1                0.265874\n",
       "windSinA                0.336904\n",
       "LightRain0              0.221966\n",
       "Ecoli0                  0.367682\n",
       "Ecoli1                  0.545360\n",
       "EcoliA                  0.584148\n",
       "dtype: float64"
      ]
     },
     "execution_count": 12,
     "metadata": {},
     "output_type": "execute_result"
    }
   ],
   "source": [
    "speration[predictor_columns]"
   ]
  },
  {
   "cell_type": "code",
   "execution_count": 465,
   "metadata": {
    "collapsed": false
   },
   "outputs": [],
   "source": [
    "Fresh_run.to_csv('Ecoli_filtered_pcas.csv')"
   ]
  },
  {
   "cell_type": "code",
   "execution_count": null,
   "metadata": {
    "collapsed": true
   },
   "outputs": [],
   "source": []
  },
  {
   "cell_type": "code",
   "execution_count": null,
   "metadata": {
    "collapsed": true
   },
   "outputs": [],
   "source": []
  },
  {
   "cell_type": "code",
   "execution_count": null,
   "metadata": {
    "collapsed": true
   },
   "outputs": [],
   "source": []
  },
  {
   "cell_type": "code",
   "execution_count": null,
   "metadata": {
    "collapsed": true
   },
   "outputs": [],
   "source": []
  },
  {
   "cell_type": "code",
   "execution_count": null,
   "metadata": {
    "collapsed": true
   },
   "outputs": [],
   "source": []
  },
  {
   "cell_type": "code",
   "execution_count": null,
   "metadata": {
    "collapsed": true
   },
   "outputs": [],
   "source": []
  },
  {
   "cell_type": "code",
   "execution_count": null,
   "metadata": {
    "collapsed": true
   },
   "outputs": [],
   "source": []
  },
  {
   "cell_type": "code",
   "execution_count": null,
   "metadata": {
    "collapsed": true
   },
   "outputs": [],
   "source": []
  },
  {
   "cell_type": "code",
   "execution_count": null,
   "metadata": {
    "collapsed": true
   },
   "outputs": [],
   "source": []
  }
 ],
 "metadata": {
  "kernelspec": {
   "display_name": "Python 3",
   "language": "python",
   "name": "python3"
  },
  "language_info": {
   "codemirror_mode": {
    "name": "ipython",
    "version": 3
   },
   "file_extension": ".py",
   "mimetype": "text/x-python",
   "name": "python",
   "nbconvert_exporter": "python",
   "pygments_lexer": "ipython3",
   "version": "3.5.1"
  }
 },
 "nbformat": 4,
 "nbformat_minor": 0
}
